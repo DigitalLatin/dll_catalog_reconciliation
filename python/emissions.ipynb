{
 "cells": [
  {
   "cell_type": "markdown",
   "id": "dea17319",
   "metadata": {},
   "source": [
    "# Emissions Analysis\n",
    "\n",
    "This short notebook contains code to analyze the output of `codecarbon`'s `EmissionsTracker`."
   ]
  },
  {
   "cell_type": "code",
   "execution_count": 5,
   "id": "0ad5471c",
   "metadata": {},
   "outputs": [],
   "source": [
    "import pandas as pd"
   ]
  },
  {
   "cell_type": "code",
   "execution_count": null,
   "id": "04eb33e4",
   "metadata": {},
   "outputs": [
    {
     "name": "stdout",
     "output_type": "stream",
     "text": [
      "timestamp: 2025-06-12T16:36:57\n",
      "project_name: codecarbon\n",
      "run_id: a4b09711-f89f-4264-abad-e08e30dd32b1\n",
      "duration: 2197.286738872528\n",
      "emissions: 0.0148805916450009\n",
      "emissions_rate: 6.772257521854648e-06\n",
      "cpu_power: 42.5\n",
      "gpu_power: 0.0\n",
      "ram_power: 9.000000000000002\n",
      "cpu_energy: 0.0259392851730187\n",
      "gpu_energy: 0\n",
      "ram_energy: 0.0054927221614122\n",
      "energy_consumed: 0.0314320073344309\n",
      "country_name: United States\n",
      "country_iso_code: USA\n",
      "region: oklahoma\n",
      "cloud_provider: nan\n",
      "cloud_region: nan\n",
      "os: macOS-15.5-arm64-arm-64bit\n",
      "python_version: 3.10.9\n",
      "codecarbon_version: 2.2.2\n",
      "cpu_count: 12\n",
      "cpu_model: Apple M4 Pro\n",
      "gpu_count: nan\n",
      "gpu_model: nan\n",
      "longitude: -97.4536\n",
      "latitude: 35.2144\n",
      "ram_total_size: 24.0\n",
      "tracking_mode: machine\n",
      "on_cloud: N\n"
     ]
    }
   ],
   "source": [
    "# Load the CSV file for the Author Reconciliation Model\n",
    "data = pd.read_csv('../logs/author_emissions_log.csv')\n",
    "\n",
    "# Print each column title followed by its value, formatted vertically\n",
    "for column in data.columns:\n",
    "    print(f\"{column}: {data.iloc[0][column]}\")"
   ]
  },
  {
   "cell_type": "code",
   "execution_count": 8,
   "id": "015f58a2",
   "metadata": {},
   "outputs": [
    {
     "name": "stdout",
     "output_type": "stream",
     "text": [
      "timestamp: 2025-06-12T17:07:28\n",
      "project_name: codecarbon\n",
      "run_id: e9ec6b22-3102-4fb8-80bb-cf1a15740b8b\n",
      "duration: 1348.9958429336548\n",
      "emissions: 0.0091357690759099\n",
      "emissions_rate: 6.772273705486325e-06\n",
      "cpu_power: 42.5\n",
      "gpu_power: 0.0\n",
      "ram_power: 9.000000000000002\n",
      "cpu_energy: 0.0159251248127884\n",
      "gpu_energy: 0\n",
      "ram_energy: 0.0033721966546773\n",
      "energy_consumed: 0.0192973214674658\n",
      "country_name: United States\n",
      "country_iso_code: USA\n",
      "region: oklahoma\n",
      "cloud_provider: nan\n",
      "cloud_region: nan\n",
      "os: macOS-15.5-arm64-arm-64bit\n",
      "python_version: 3.10.9\n",
      "codecarbon_version: 2.2.2\n",
      "cpu_count: 12\n",
      "cpu_model: Apple M4 Pro\n",
      "gpu_count: nan\n",
      "gpu_model: nan\n",
      "longitude: -97.4536\n",
      "latitude: 35.2144\n",
      "ram_total_size: 24.0\n",
      "tracking_mode: machine\n",
      "on_cloud: N\n"
     ]
    }
   ],
   "source": [
    "# Load the CSV file for the Greek-Latin Identification Model\n",
    "data = pd.read_csv('../logs/greek_latin_emissions_log.csv')\n",
    "\n",
    "# Print each column title followed by its value, formatted vertically\n",
    "for column in data.columns:\n",
    "    print(f\"{column}: {data.iloc[0][column]}\")"
   ]
  },
  {
   "cell_type": "code",
   "execution_count": null,
   "id": "9cadf267",
   "metadata": {},
   "outputs": [],
   "source": []
  }
 ],
 "metadata": {
  "kernelspec": {
   "display_name": "dllml",
   "language": "python",
   "name": "python3"
  },
  "language_info": {
   "codemirror_mode": {
    "name": "ipython",
    "version": 3
   },
   "file_extension": ".py",
   "mimetype": "text/x-python",
   "name": "python",
   "nbconvert_exporter": "python",
   "pygments_lexer": "ipython3",
   "version": "3.10.9"
  }
 },
 "nbformat": 4,
 "nbformat_minor": 5
}
